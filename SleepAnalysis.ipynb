{
 "cells": [
  {
   "cell_type": "code",
   "execution_count": 16,
   "metadata": {},
   "outputs": [],
   "source": [
    "import os\n",
    "import cv2\n",
    "import winsound\n",
    "import numpy as np\n",
    "import matplotlib.pyplot as plt\n",
    "import datetime as dt\n",
    "import matplotlib.dates as mdates"
   ]
  },
  {
   "cell_type": "code",
   "execution_count": 17,
   "metadata": {},
   "outputs": [],
   "source": [
    "#set the proper start time for your video files. Also set the directory containing the video files\n",
    "videoStartDate = dt.datetime(year = 2018, month = 10, day = 17, hour=22, minute=52, second=39)\n",
    "vidDirectory = r\"C:\\Users\\Glow-PC\\Documents\\OpenCV Sleep\\20181017\"\n",
    "#get a list of all files and then trim that list down to mp4 files. the default naming scheme from iSpy keeps things in chronological order\n",
    "fileList = os.listdir(vidDirectory)\n",
    "videoList = []\n",
    "for f in fileList:\n",
    "\tif f.endswith('.mp4'):\t\n",
    "\t\tvideoList += [f]"
   ]
  },
  {
   "cell_type": "code",
   "execution_count": 19,
   "metadata": {},
   "outputs": [],
   "source": [
    "#these 4 numbers define the region of interest for my legs. Make sure it captures from the knees down to below the feet.\n",
    "nickMaskX1 = 50\n",
    "nickMaskX2 = 250\n",
    "nickMaskY1 = 200\n",
    "nickMaskY2 = 420\n",
    "\n",
    "#choose a random video file (15th in this case) so that we can fine tune the region of interest above. hit escape to leave vid\n",
    "vid = videoList[15]   \n",
    "vidCap = cv2.VideoCapture(vid)  \n",
    "\n",
    "\n",
    "while(True):\n",
    "    ret, frame = vidCap.read()\n",
    "    if not ret:\n",
    "        break\n",
    "\n",
    "    cv2.rectangle(frame,(nickMaskX1,nickMaskY1),(nickMaskX2,nickMaskY2),(0,0,255),15)\n",
    "    cv2.imshow('frame1',frame)\n",
    "    k = cv2.waitKey(1) & 0xFF\n",
    "    if k == 27:\n",
    "        break\n",
    "\n",
    "vidCap.release()\n",
    "cv2.destroyAllWindows()"
   ]
  },
  {
   "cell_type": "code",
   "execution_count": 20,
   "metadata": {},
   "outputs": [
    {
     "name": "stdout",
     "output_type": "stream",
     "text": [
      "1_2018-10-17_22-52-39.mp4\n",
      "1_2018-10-17_23-07-40.mp4\n",
      "1_2018-10-17_23-22-42.mp4\n",
      "1_2018-10-17_23-37-45.mp4\n",
      "1_2018-10-17_23-52-46.mp4\n",
      "1_2018-10-18_00-07-48.mp4\n",
      "1_2018-10-18_00-22-49.mp4\n",
      "1_2018-10-18_00-37-51.mp4\n",
      "1_2018-10-18_00-52-53.mp4\n",
      "1_2018-10-18_01-07-55.mp4\n",
      "1_2018-10-18_01-22-56.mp4\n",
      "1_2018-10-18_01-37-58.mp4\n",
      "1_2018-10-18_01-53-00.mp4\n",
      "1_2018-10-18_02-08-01.mp4\n",
      "1_2018-10-18_02-23-03.mp4\n",
      "1_2018-10-18_02-38-05.mp4\n",
      "1_2018-10-18_02-53-06.mp4\n",
      "1_2018-10-18_03-08-08.mp4\n",
      "1_2018-10-18_03-23-09.mp4\n",
      "1_2018-10-18_03-38-11.mp4\n",
      "1_2018-10-18_03-53-13.mp4\n",
      "1_2018-10-18_04-08-15.mp4\n",
      "1_2018-10-18_04-23-16.mp4\n",
      "1_2018-10-18_04-38-18.mp4\n",
      "1_2018-10-18_04-53-20.mp4\n",
      "1_2018-10-18_05-08-22.mp4\n",
      "1_2018-10-18_05-23-24.mp4\n",
      "1_2018-10-18_05-38-25.mp4\n",
      "1_2018-10-18_05-53-26.mp4\n"
     ]
    }
   ],
   "source": [
    "#now that we have defined the ROI we step through the video files in order and extract \"activity data\"\n",
    "#calculate the average \"activity\" in a given second and then save the data point.\n",
    "#we use the background subtract feature in openCV that can be used to highlight motion in a video feed\n",
    "#the value we care about is just the sum of the mask in the ROI. high value = lots of pixels have changed\n",
    "#every video file (in my case 15 min video files) gets its own output txt file that is simply a 1D list of activity values for every second\n",
    "for vid in videoList:\n",
    "    \n",
    "    listString = list(vid)\n",
    "    listString = listString[:-4]\n",
    "    listString = listString + list(\"IndivAct\") + list(\".txt\")\n",
    "    newExtension = ''.join(listString)\n",
    "    activityFile = open(newExtension,\"w+\")\n",
    "    \n",
    "    cap = cv2.VideoCapture(vid)\n",
    "    fgbg = cv2.createBackgroundSubtractorMOG2()\n",
    "    \n",
    "    prevMilliTimer = 0\n",
    "    nickRunningSum = 0 \n",
    "    meanIndex = 0\n",
    "\n",
    "    while(True):\n",
    "        ret, frame = cap.read()\n",
    "        if not ret:\n",
    "            break\n",
    "\n",
    "        fgmask = fgbg.apply(frame)\n",
    "\n",
    "    #check ms of video, collect data for 1s and once you roll over into the next second save the data and reset variables    \n",
    "        currentMilliTimer = cap.get(cv2.CAP_PROP_POS_MSEC) % 1000\n",
    "\n",
    "        if currentMilliTimer < prevMilliTimer: #if true then we rolled into the next second\n",
    "            activityFile.write(str(nickRunningSum / meanIndex)) #my activity\n",
    "            activityFile.write(\"\\r\")\n",
    "            nickRunningSum = 0\n",
    "            meanIndex = 0\n",
    "\n",
    "        nickRunningSum += np.sum(fgmask[nickMaskY1:nickMaskY2,nickMaskX1:nickMaskX2]) #keep a running sum of the nick activity that we'll average every 1s\n",
    "        meanIndex += 1 #this var will divide to make mean\n",
    "        prevMilliTimer = currentMilliTimer\n",
    "        \n",
    "    print(vid)\n",
    "    cap.release()\n",
    "    cv2.destroyAllWindows()\n",
    "        \n",
    "    activityFile.close()\n",
    "\n",
    "#this is just so I get a system beep once completed\n",
    "frequency = 1000  # Set Frequency To 2500 Hertz\n",
    "duration = 250  # Set Duration To 1000 ms == 1 second\n",
    "winsound.Beep(frequency, duration)"
   ]
  },
  {
   "cell_type": "code",
   "execution_count": 21,
   "metadata": {},
   "outputs": [
    {
     "name": "stderr",
     "output_type": "stream",
     "text": [
      "C:\\ProgramData\\Anaconda3\\lib\\site-packages\\ipykernel_launcher.py:7: DeprecationWarning: 'U' mode is deprecated\n",
      "  import sys\n",
      "C:\\ProgramData\\Anaconda3\\lib\\site-packages\\ipykernel_launcher.py:14: DeprecationWarning: 'U' mode is deprecated\n",
      "  \n"
     ]
    }
   ],
   "source": [
    "#make a list of the txt activity files that we generated above, then import it into 1 array\n",
    "fileList = os.listdir(vidDirectory)\n",
    "dataFileList = []\n",
    "for f in fileList:\n",
    "    if f.endswith('IndivAct.txt'):\n",
    "        dataFileList += [f]\n",
    "        \n",
    "with open(dataFileList[0], 'rU') as dataFileObj:\n",
    "    dataList = [1] #put a dummy value here and drop it later\n",
    "    for line in dataFileObj:\n",
    "        lineArray = int(float(line))\n",
    "        dataList = np.append(dataList,lineArray)\n",
    "    dataList = dataList[1:]\n",
    "for x in range(1,len(dataFileList)):\n",
    "    with open(dataFileList[x], 'rU') as dataFileObj:\n",
    "        for line in dataFileObj:\n",
    "            lineArray = int(float(line))\n",
    "            dataList = np.append(dataList,lineArray)\n",
    "#our activity data files were 1D arrays of our Y-value, here we generate our 1D array of X-values (time)            \n",
    "timeArray = [videoStartDate + dt.timedelta(seconds = i) for i in range(len(dataList))]\n",
    "quarterHourTimeArray = [videoStartDate + dt.timedelta(minutes = 7.5+15*i) for i in range(round(len(dataList)/900))]"
   ]
  },
  {
   "cell_type": "code",
   "execution_count": 22,
   "metadata": {},
   "outputs": [],
   "source": [
    "#threshold/binarize the data. 1E6 worked really well for all of my work.\n",
    "#any time that is >threshold gets accumulated in an array\n",
    "eventData = []\n",
    "threshold = 1E6\n",
    "for x in range(0,len(dataList)):\n",
    "    if dataList[x] > threshold:\n",
    "        eventData = np.append(eventData,timeArray[x])"
   ]
  },
  {
   "cell_type": "code",
   "execution_count": 23,
   "metadata": {},
   "outputs": [],
   "source": [
    "#now we have a long list of time values, but multiple sequential time values are really just one kick or movement\n",
    "#so lets condense that array down to an array of \"events\"\n",
    "#we're looking for rising edges and falling edges of our digital/binarized data\n",
    "#the >2 part below basically says if two events are within 2 seconds of each other, ID them as 1 event\n",
    "#in the end the eventList array is a 1D list of start and end times of the events we have identified\n",
    "#example: eventData may contain a series [3,4,5,10,11,12] \n",
    "#which then gets ID's as two events and would have eventList=[3,5,10,12]\n",
    "\n",
    "midEventFlag = False\n",
    "eventList = []\n",
    "for x in range(0,len(eventData)-1):\n",
    "    if not midEventFlag:\n",
    "        eventList = np.append(eventList,eventData[x])\n",
    "        midEventFlag = not midEventFlag\n",
    "    else:\n",
    "        if (eventData[x + 1] - eventData[x]).total_seconds() > 2:\n",
    "            eventList = np.append(eventList,eventData[x])\n",
    "            midEventFlag = not midEventFlag"
   ]
  },
  {
   "cell_type": "code",
   "execution_count": 24,
   "metadata": {},
   "outputs": [],
   "source": [
    "#now take our eventList and figure out 1) how long the event lasted and 2) what time was the event (the middle of the event)\n",
    "eventTime = []\n",
    "eventDuration = [] \n",
    "for x in range(0,len(eventList)-1,2):\n",
    "    eventMidTime = eventList[x]+dt.timedelta(seconds = int((eventList[x+1]-eventList[x]).total_seconds()/2))\n",
    "    eventTime = np.append(eventTime, eventMidTime)\n",
    "    eventDuration = np.append(eventDuration, eventList[x+1]-eventList[x])"
   ]
  },
  {
   "cell_type": "code",
   "execution_count": 25,
   "metadata": {},
   "outputs": [],
   "source": [
    "#now tally up the # of events we find in a 15 minute block\n",
    "histoList = []\n",
    "for x in range(0,len(quarterHourTimeArray)):\n",
    "    histoList = np.append(histoList, len([element for element in eventTime if element>videoStartDate + dt.timedelta(minutes = 15*x) and element<videoStartDate + dt.timedelta(minutes = 15*(x+1))]))"
   ]
  },
  {
   "cell_type": "code",
   "execution_count": 26,
   "metadata": {},
   "outputs": [
    {
     "name": "stdout",
     "output_type": "stream",
     "text": [
      "102\n"
     ]
    },
    {
     "data": {
      "image/png": "[encoded data removed]",
      "text/plain": [
       "<Figure size 640x320 with 2 Axes>"
      ]
     },
     "metadata": {},
     "output_type": "display_data"
    }
   ],
   "source": [
    "myFmt = mdates.DateFormatter('%H:%M')\n",
    "fig = plt.figure(num=0, figsize=(8, 4), dpi=80, facecolor='w', edgecolor='k')\n",
    "ax1 = fig.add_subplot(212)\n",
    "ax2 = fig.add_subplot(211)\n",
    "\n",
    "ax1.plot(quarterHourTimeArray,histoList)\n",
    "ax1.set_ylabel('Instances in a 15 minute block')\n",
    "ax1.xaxis.set_major_formatter(myFmt)\n",
    "ax1.set_xlim([timeArray[0],timeArray[-1]])\n",
    "\n",
    "\n",
    "ax2.plot(timeArray,dataList)\n",
    "ax2.set_ylabel('Motion')\n",
    "ax2.xaxis.set_major_formatter(myFmt)\n",
    "ax2.set_xlim([timeArray[0],timeArray[-1]])\n",
    "\n",
    "fig.subplots_adjust(wspace=0, hspace=0.5)\n",
    "\n",
    "#the print below is the total # of kicks/events in the night\n",
    "print(len(eventTime))"
   ]
  },
  {
   "cell_type": "code",
   "execution_count": 14,
   "metadata": {},
   "outputs": [
    {
     "data": {
      "image/png": "[encoded data removed]",
      "text/plain": [
       "<Figure size 640x320 with 2 Axes>"
      ]
     },
     "metadata": {},
     "output_type": "display_data"
    }
   ],
   "source": [
    "#this section is to generate a compilation video of events through the night with a corresponding activity plot\n",
    "#this part is unnecessary most of the time but was important while initally understanding the data\n",
    "#secondsIn and videoIndex pick a random video and a time within that video to make sure our plots are coming out right\n",
    "myFmt = mdates.DateFormatter('%H:%M')\n",
    "secondsIn=5400\n",
    "videoIndex=6\n",
    "lineTime= timeArray[0] + dt.timedelta(seconds = secondsIn)\n",
    "\n",
    "fig = plt.figure(num=0, figsize=(8, 4), dpi=80, facecolor='w', edgecolor='k')\n",
    "ax1 = fig.add_subplot(211)\n",
    "ax2 = fig.add_subplot(212)\n",
    "\n",
    "ax1.plot(timeArray[videoIndex*900:(videoIndex+1)*900],dataList[videoIndex*900:(videoIndex+1)*900])\n",
    "ax1.plot([lineTime,lineTime],[0,1.2E7])\n",
    "ax1.set_ylabel('Motion')\n",
    "ax1.xaxis.set_major_formatter(myFmt)\n",
    "\n",
    "ax2.plot(timeArray,dataList)\n",
    "ax2.plot([lineTime,lineTime],[0,1.2E7])\n",
    "ax2.set_ylabel('Motion')\n",
    "ax2.xaxis.set_major_formatter(myFmt)\n",
    "\n",
    "fig.subplots_adjust(wspace=0, hspace=0.5)\n",
    "\n",
    "def refreshPlots(videoIndex, secondsIn):\n",
    "    ax1.cla()\n",
    "    ax2.cla()\n",
    "    \n",
    "    lineTime= videoStartDate + dt.timedelta(seconds = secondsIn)\n",
    "    \n",
    "    ax1.plot(timeArray[videoIndex*900:(videoIndex+1)*900],dataList[videoIndex*900:(videoIndex+1)*900])\n",
    "    ax1.plot([lineTime,lineTime],[0,1.2E7])\n",
    "    ax1.set_ylabel('Motion')\n",
    "    ax1.xaxis.set_major_formatter(myFmt)\n",
    "\n",
    "    ax2.plot(timeArray,dataList)\n",
    "    ax2.plot([lineTime,lineTime],[0,1.2E7])\n",
    "    ax2.set_ylabel('Motion')\n",
    "    ax2.xaxis.set_major_formatter(myFmt)"
   ]
  },
  {
   "cell_type": "code",
   "execution_count": 15,
   "metadata": {},
   "outputs": [
    {
     "name": "stderr",
     "output_type": "stream",
     "text": [
      "C:\\ProgramData\\Anaconda3\\lib\\site-packages\\ipykernel_launcher.py:23: DeprecationWarning: The binary mode of fromstring is deprecated, as it behaves surprisingly on unicode inputs. Use frombuffer instead\n"
     ]
    },
    {
     "name": "stdout",
     "output_type": "stream",
     "text": [
      "1_2018-10-17_22-52-39.mp4\n",
      "1_2018-10-17_23-07-40.mp4\n",
      "1_2018-10-17_23-22-42.mp4\n",
      "1_2018-10-17_23-37-45.mp4\n",
      "1_2018-10-17_23-52-46.mp4\n",
      "1_2018-10-18_00-07-48.mp4\n",
      "1_2018-10-18_00-22-49.mp4\n",
      "1_2018-10-18_00-37-51.mp4\n",
      "1_2018-10-18_00-52-53.mp4\n",
      "1_2018-10-18_01-07-55.mp4\n",
      "1_2018-10-18_01-22-56.mp4\n",
      "1_2018-10-18_01-37-58.mp4\n",
      "1_2018-10-18_01-53-00.mp4\n",
      "1_2018-10-18_02-08-01.mp4\n",
      "1_2018-10-18_02-23-03.mp4\n",
      "1_2018-10-18_02-38-05.mp4\n",
      "1_2018-10-18_02-53-06.mp4\n",
      "1_2018-10-18_03-08-08.mp4\n",
      "1_2018-10-18_03-23-09.mp4\n",
      "1_2018-10-18_03-38-11.mp4\n",
      "1_2018-10-18_03-53-13.mp4\n",
      "1_2018-10-18_04-08-15.mp4\n",
      "1_2018-10-18_04-23-16.mp4\n",
      "1_2018-10-18_04-38-18.mp4\n",
      "1_2018-10-18_04-53-20.mp4\n",
      "1_2018-10-18_05-08-22.mp4\n",
      "1_2018-10-18_05-23-24.mp4\n",
      "1_2018-10-18_05-38-25.mp4\n",
      "1_2018-10-18_05-53-26.mp4\n"
     ]
    }
   ],
   "source": [
    "#now we start a new video file and go through the same process as above but instead of outputting activity txt files\n",
    "#we output any frame above the threshold to video and also stitch an activity plot below the video. ned result is a compilation\n",
    "fullFrameHeight = 380+4*80\n",
    "fullFrameWidth = 640\n",
    "fourcc = cv2.VideoWriter_fourcc(*'XVID')\n",
    "out = cv2.VideoWriter('nickCompWithPlot.avi',fourcc, 10.0, (fullFrameWidth,fullFrameHeight))\n",
    "fullFrameArray = np.zeros((fullFrameHeight,fullFrameWidth,3),np.uint8)\n",
    "\n",
    "for videoIndex in range(0,len(videoList)):\n",
    "    vid = videoList[videoIndex]\n",
    "\n",
    "    cap = cv2.VideoCapture(vid)\n",
    "    fgbg = cv2.createBackgroundSubtractorMOG2()\n",
    "    while(True):\n",
    "        ret, frame = cap.read()\n",
    "        if not ret:\n",
    "            break\n",
    "\n",
    "        fgmask = fgbg.apply(frame)\n",
    "\n",
    "        if np.sum(fgmask[nickMaskY1:nickMaskY2,nickMaskX1:nickMaskX2]) > threshold:\n",
    "            secondsIn = int(cap.get(cv2.CAP_PROP_POS_MSEC) / 1000) + videoIndex*900\n",
    "            refreshPlots(videoIndex, secondsIn)\n",
    "            fig.canvas.draw()\n",
    "            figImgData = np.fromstring(fig.canvas.tostring_rgb(), dtype=np.uint8, sep='')\n",
    "            figImgData = figImgData.reshape(fig.canvas.get_width_height()[::-1] + (3,))\n",
    "\n",
    "            fullFrameArray[0:380,0:fullFrameWidth] = frame[0:380,0:fullFrameWidth]\n",
    "            fullFrameArray[380:fullFrameHeight,0:fullFrameWidth] = figImgData\n",
    "            out.write(fullFrameArray)\n",
    "\n",
    "    cap.release()\n",
    "    print(vid)\n",
    "\n",
    "out.release()\n",
    "\n",
    "frequency = 1000  # Set Frequency To 2500 Hertz\n",
    "duration = 250  # Set Duration To 1000 ms == 1 second\n",
    "winsound.Beep(frequency, duration)"
   ]
  },
  {
   "cell_type": "code",
   "execution_count": null,
   "metadata": {},
   "outputs": [],
   "source": []
  },
  {
   "cell_type": "code",
   "execution_count": null,
   "metadata": {},
   "outputs": [],
   "source": []
  }
 ],
 "metadata": {
  "kernelspec": {
   "display_name": "Python 3",
   "language": "python",
   "name": "python3"
  },
  "language_info": {
   "codemirror_mode": {
    "name": "ipython",
    "version": 3
   },
   "file_extension": ".py",
   "mimetype": "text/x-python",
   "name": "python",
   "nbconvert_exporter": "python",
   "pygments_lexer": "ipython3",
   "version": "3.6.5"
  }
 },
 "nbformat": 4,
 "nbformat_minor": 2
}
